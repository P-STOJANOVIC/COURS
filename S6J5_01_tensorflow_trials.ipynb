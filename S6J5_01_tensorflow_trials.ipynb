{
  "cells": [
    {
      "cell_type": "markdown",
      "metadata": {
        "id": "tZnDUliRrRjK"
      },
      "source": [
        "## The Tensorflow Trials"
      ],
      "id": "tZnDUliRrRjK"
    },
    {
      "cell_type": "markdown",
      "metadata": {
        "id": "Teqr83vtrRjM"
      },
      "source": [
        "For much of the past week, you've been using tensors with your Deep Learning models. Over the course of today's challenges, you'll be manipulating tensors extensively and working with some unconventional model architectures.\n",
        "\n",
        "\n",
        "In this warm up, you'll be introduced to some new methods.\n",
        "\n",
        "All the methods here are going to make tackling challenges later in the day 100x easier, so if you do get stuck later on, make sure you come back here to see how you achieved the right answers."
      ],
      "id": "Teqr83vtrRjM"
    },
    {
      "cell_type": "code",
      "execution_count": null,
      "metadata": {
        "id": "DqSGDPqxrRjN"
      },
      "outputs": [],
      "source": [
        "import tensorflow as tf"
      ],
      "id": "DqSGDPqxrRjN"
    },
    {
      "cell_type": "markdown",
      "metadata": {
        "id": "o73oW0nfrRjO"
      },
      "source": [
        "A) Use `tf.ones` to create a tensor `a` filled with ones of shape (3,3)."
      ],
      "id": "o73oW0nfrRjO"
    },
    {
      "cell_type": "code",
      "execution_count": null,
      "metadata": {
        "colab": {
          "base_uri": "https://localhost:8080/"
        },
        "id": "BStxvifmrRjP",
        "outputId": "ed0c459d-e93a-429c-8644-81f629466e23"
      },
      "outputs": [
        {
          "output_type": "execute_result",
          "data": {
            "text/plain": [
              "<tf.Tensor: shape=(3, 3), dtype=float32, numpy=\n",
              "array([[1., 1., 1.],\n",
              "       [1., 1., 1.],\n",
              "       [1., 1., 1.]], dtype=float32)>"
            ]
          },
          "metadata": {},
          "execution_count": 6
        }
      ],
      "source": [
        "a=tf.ones([3,3])\n",
        "a"
      ],
      "id": "BStxvifmrRjP"
    },
    {
      "cell_type": "markdown",
      "metadata": {
        "id": "ZZWTeIG2rRjP"
      },
      "source": [
        "B) Use tf.expand_dims to make `a` an object of shape (1,3,3) called `b`."
      ],
      "id": "ZZWTeIG2rRjP"
    },
    {
      "cell_type": "code",
      "source": [],
      "metadata": {
        "id": "IPRz2OEty0d_"
      },
      "id": "IPRz2OEty0d_",
      "execution_count": null,
      "outputs": []
    },
    {
      "cell_type": "code",
      "execution_count": null,
      "metadata": {
        "colab": {
          "base_uri": "https://localhost:8080/"
        },
        "id": "vI9erVhwrRjP",
        "outputId": "65cc78a5-a51d-4f38-d48d-45bd74dc5985"
      },
      "outputs": [
        {
          "output_type": "execute_result",
          "data": {
            "text/plain": [
              "<tf.Tensor: shape=(1, 3, 3), dtype=float32, numpy=\n",
              "array([[[1., 1., 1.],\n",
              "        [1., 1., 1.],\n",
              "        [1., 1., 1.]]], dtype=float32)>"
            ]
          },
          "metadata": {},
          "execution_count": 16
        }
      ],
      "source": [
        "b=tf.expand_dims(a,axis=0)\n",
        "b"
      ],
      "id": "vI9erVhwrRjP"
    },
    {
      "cell_type": "markdown",
      "metadata": {
        "id": "AVWfFM0vrRjP"
      },
      "source": [
        "C) Create a tensor `c` filled with zeroes of size (9,1)"
      ],
      "id": "AVWfFM0vrRjP"
    },
    {
      "cell_type": "code",
      "execution_count": null,
      "metadata": {
        "colab": {
          "base_uri": "https://localhost:8080/"
        },
        "id": "TKrBo208rRjQ",
        "outputId": "cbe14bb3-a50e-441e-d109-77239d71f178"
      },
      "outputs": [
        {
          "output_type": "execute_result",
          "data": {
            "text/plain": [
              "<tf.Tensor: shape=(9,), dtype=float32, numpy=array([0., 0., 0., 0., 0., 0., 0., 0., 0.], dtype=float32)>"
            ]
          },
          "metadata": {},
          "execution_count": 20
        }
      ],
      "source": [
        "c=tf.zeros(9,1)\n",
        "c"
      ],
      "id": "TKrBo208rRjQ"
    },
    {
      "cell_type": "markdown",
      "metadata": {
        "id": "1zgkNg60rRjQ"
      },
      "source": [
        "D) Reshape `c` to be of shape (1, 3, 3). Name it `d`."
      ],
      "id": "1zgkNg60rRjQ"
    },
    {
      "cell_type": "code",
      "execution_count": null,
      "metadata": {
        "colab": {
          "base_uri": "https://localhost:8080/"
        },
        "id": "-CTbmBETrRjQ",
        "outputId": "4da7278d-9706-4e9a-9d38-6623f7e47b4b"
      },
      "outputs": [
        {
          "output_type": "execute_result",
          "data": {
            "text/plain": [
              "<tf.Tensor: shape=(1, 3, 3), dtype=float32, numpy=\n",
              "array([[[0., 0., 0.],\n",
              "        [0., 0., 0.],\n",
              "        [0., 0., 0.]]], dtype=float32)>"
            ]
          },
          "metadata": {},
          "execution_count": 24
        }
      ],
      "source": [
        "d=tf.reshape(c,[1,3,3])\n",
        "d"
      ],
      "id": "-CTbmBETrRjQ"
    },
    {
      "cell_type": "markdown",
      "metadata": {
        "id": "lcMEo9VnrRjQ"
      },
      "source": [
        "E) Use `tf.matmul` to matrix multiply `b` and `d` with each other and now assign the tensor to `e`."
      ],
      "id": "lcMEo9VnrRjQ"
    },
    {
      "cell_type": "code",
      "execution_count": null,
      "metadata": {
        "colab": {
          "base_uri": "https://localhost:8080/"
        },
        "id": "mSOMitvWrRjR",
        "outputId": "7cc13857-a990-4709-a7c1-4b6ce2dcab9d"
      },
      "outputs": [
        {
          "output_type": "execute_result",
          "data": {
            "text/plain": [
              "<tf.Tensor: shape=(1, 3, 3), dtype=float32, numpy=\n",
              "array([[[0., 0., 0.],\n",
              "        [0., 0., 0.],\n",
              "        [0., 0., 0.]]], dtype=float32)>"
            ]
          },
          "metadata": {},
          "execution_count": 25
        }
      ],
      "source": [
        "e=tf.matmul(b,d)\n",
        "e"
      ],
      "id": "mSOMitvWrRjR"
    },
    {
      "cell_type": "markdown",
      "metadata": {
        "id": "Dp7Ye3yVrRjR"
      },
      "source": [
        "F) Below is a `numpy` array. Convert it to a tensor named `array_tensor`. Then use `tf.cast` to ensure it is of dtype `float` not `int`. Assign the result to `f`."
      ],
      "id": "Dp7Ye3yVrRjR"
    },
    {
      "cell_type": "code",
      "execution_count": null,
      "metadata": {
        "id": "sV1T-sQyrRjR"
      },
      "outputs": [],
      "source": [
        "import numpy as np"
      ],
      "id": "sV1T-sQyrRjR"
    },
    {
      "cell_type": "code",
      "execution_count": null,
      "metadata": {
        "id": "JxrgDH9WrRjR"
      },
      "outputs": [],
      "source": [
        "array = np.array([[\n",
        "    [1,2,3],\n",
        "    [1,2,3],\n",
        "    [4,5,6],\n",
        "    [7,8,9]\n",
        "]])"
      ],
      "id": "JxrgDH9WrRjR"
    },
    {
      "cell_type": "code",
      "execution_count": null,
      "metadata": {
        "colab": {
          "base_uri": "https://localhost:8080/"
        },
        "id": "V_eioT7NrRjR",
        "outputId": "2aa9818f-80a9-4241-ef42-ce0e0bad66cd"
      },
      "outputs": [
        {
          "output_type": "execute_result",
          "data": {
            "text/plain": [
              "<tf.Tensor: shape=(1, 4, 3), dtype=float32, numpy=\n",
              "array([[[1., 2., 3.],\n",
              "        [1., 2., 3.],\n",
              "        [4., 5., 6.],\n",
              "        [7., 8., 9.]]], dtype=float32)>"
            ]
          },
          "metadata": {},
          "execution_count": 30
        }
      ],
      "source": [
        "f=tf.cast(array,dtype='float')\n",
        "f"
      ],
      "id": "V_eioT7NrRjR"
    },
    {
      "cell_type": "markdown",
      "metadata": {
        "id": "uO7pMBfprRjR"
      },
      "source": [
        "G) Select the values in the __last column__ of `f` and save this to `g`. To be clear, `g` should have shape (4,) and contain the values `3,3,6,9`."
      ],
      "id": "uO7pMBfprRjR"
    },
    {
      "cell_type": "code",
      "execution_count": null,
      "metadata": {
        "colab": {
          "base_uri": "https://localhost:8080/"
        },
        "id": "LlPsm22DrRjR",
        "outputId": "80d987d2-b4fe-42c4-cfde-26e3c6c08183"
      },
      "outputs": [
        {
          "output_type": "execute_result",
          "data": {
            "text/plain": [
              "<tf.Tensor: shape=(4,), dtype=float32, numpy=array([3., 3., 6., 9.], dtype=float32)>"
            ]
          },
          "metadata": {},
          "execution_count": 43
        }
      ],
      "source": [
        "g=f[0,:,2]\n",
        "g"
      ],
      "id": "LlPsm22DrRjR"
    },
    {
      "cell_type": "markdown",
      "metadata": {
        "id": "8duNHNZtrRjR"
      },
      "source": [
        "H) Expand the dimensions of g so that it's of shape (4,1). Assign this to `h`."
      ],
      "id": "8duNHNZtrRjR"
    },
    {
      "cell_type": "code",
      "execution_count": null,
      "metadata": {
        "colab": {
          "base_uri": "https://localhost:8080/"
        },
        "id": "cJFwZ4FmrRjS",
        "outputId": "b8c797cc-d49a-48b1-e43e-02cf4970be81"
      },
      "outputs": [
        {
          "output_type": "execute_result",
          "data": {
            "text/plain": [
              "<tf.Tensor: shape=(1, 4), dtype=float32, numpy=array([[3., 3., 6., 9.]], dtype=float32)>"
            ]
          },
          "metadata": {},
          "execution_count": 48
        }
      ],
      "source": [
        "h=tf.expand_dims(g,axis=0)\n",
        "h"
      ],
      "id": "cJFwZ4FmrRjS"
    },
    {
      "cell_type": "markdown",
      "metadata": {
        "id": "xvP2zCQ5rRjS"
      },
      "source": [
        "H) Multiply e with f, using `tf.matmul` with the optional `transpose_b` argument (`e` must come first in your positional arguments, then `f`). Assign this to `h`."
      ],
      "id": "xvP2zCQ5rRjS"
    },
    {
      "cell_type": "code",
      "execution_count": null,
      "metadata": {
        "colab": {
          "base_uri": "https://localhost:8080/"
        },
        "id": "ueKIpZ-crRjS",
        "outputId": "e225f26a-cb30-42ed-9927-4d97cc33aaa8"
      },
      "outputs": [
        {
          "output_type": "execute_result",
          "data": {
            "text/plain": [
              "<tf.Tensor: shape=(1, 3, 4), dtype=float32, numpy=\n",
              "array([[[0., 0., 0., 0.],\n",
              "        [0., 0., 0., 0.],\n",
              "        [0., 0., 0., 0.]]], dtype=float32)>"
            ]
          },
          "metadata": {},
          "execution_count": 53
        }
      ],
      "source": [
        "h=tf.matmul(e,f,transpose_b=True)\n",
        "h"
      ],
      "id": "ueKIpZ-crRjS"
    },
    {
      "cell_type": "markdown",
      "metadata": {
        "id": "C46ggzZMrRjS"
      },
      "source": [
        "I) Create a `(10,10)` tensor filled with ones. Then use `tf.linalg.band_part()` to mask out the upper triangle of the matrix (i.e. the upper triangle should all be 0s). Assign to `i`."
      ],
      "id": "C46ggzZMrRjS"
    },
    {
      "cell_type": "code",
      "execution_count": null,
      "metadata": {
        "colab": {
          "base_uri": "https://localhost:8080/"
        },
        "id": "s9iANud1rRjS",
        "outputId": "3845e811-7c29-4cf0-b4b2-6a761b9e70dd"
      },
      "outputs": [
        {
          "output_type": "execute_result",
          "data": {
            "text/plain": [
              "<tf.Tensor: shape=(10, 10), dtype=float32, numpy=\n",
              "array([[1., 0., 0., 0., 0., 0., 0., 0., 0., 0.],\n",
              "       [1., 1., 0., 0., 0., 0., 0., 0., 0., 0.],\n",
              "       [1., 1., 1., 0., 0., 0., 0., 0., 0., 0.],\n",
              "       [1., 1., 1., 1., 0., 0., 0., 0., 0., 0.],\n",
              "       [1., 1., 1., 1., 1., 0., 0., 0., 0., 0.],\n",
              "       [1., 1., 1., 1., 1., 1., 0., 0., 0., 0.],\n",
              "       [1., 1., 1., 1., 1., 1., 1., 0., 0., 0.],\n",
              "       [1., 1., 1., 1., 1., 1., 1., 1., 0., 0.],\n",
              "       [1., 1., 1., 1., 1., 1., 1., 1., 1., 0.],\n",
              "       [1., 1., 1., 1., 1., 1., 1., 1., 1., 1.]], dtype=float32)>"
            ]
          },
          "metadata": {},
          "execution_count": 54
        }
      ],
      "source": [
        "i=tf.linalg.band_part(tf.ones((10,10)),num_lower=-1, num_upper=0)\n",
        "i"
      ],
      "id": "s9iANud1rRjS"
    },
    {
      "cell_type": "markdown",
      "metadata": {
        "id": "v1qnzOTNrRjS"
      },
      "source": [
        "J) Take the `number_list` below and make it a tensor. Assign it to `j`."
      ],
      "id": "v1qnzOTNrRjS"
    },
    {
      "cell_type": "code",
      "execution_count": null,
      "metadata": {
        "id": "NDXKDZJ4rRjS"
      },
      "outputs": [],
      "source": [
        "number_list = [1,2,3,4,8]"
      ],
      "id": "NDXKDZJ4rRjS"
    },
    {
      "cell_type": "code",
      "execution_count": null,
      "metadata": {
        "colab": {
          "base_uri": "https://localhost:8080/"
        },
        "id": "G34Pz2UZrRjS",
        "outputId": "e46f0c4a-bd4e-4a12-ca28-2a8dcfda4e92"
      },
      "outputs": [
        {
          "output_type": "execute_result",
          "data": {
            "text/plain": [
              "tensor([1, 2, 3, 4, 8])"
            ]
          },
          "metadata": {},
          "execution_count": 59
        }
      ],
      "source": [
        "import torch\n",
        "j=torch.tensor(number_list)\n",
        "j"
      ],
      "id": "G34Pz2UZrRjS"
    },
    {
      "cell_type": "markdown",
      "metadata": {
        "id": "jLR0K-EHrRjS"
      },
      "source": [
        "K) Use `tf.expand_dims` to make `j` into a tensor of shape (1,5). Assign to `k`."
      ],
      "id": "jLR0K-EHrRjS"
    },
    {
      "cell_type": "code",
      "execution_count": null,
      "metadata": {
        "colab": {
          "base_uri": "https://localhost:8080/"
        },
        "id": "g4lWx9jlrRjS",
        "outputId": "9d72fe57-3783-4e25-b080-8e6388104909"
      },
      "outputs": [
        {
          "output_type": "execute_result",
          "data": {
            "text/plain": [
              "<tf.Tensor: shape=(1, 5), dtype=int64, numpy=array([[1, 2, 3, 4, 8]])>"
            ]
          },
          "metadata": {},
          "execution_count": 65
        }
      ],
      "source": [
        "k=tf.expand_dims(j,axis=0)\n",
        "list(k)\n",
        "k"
      ],
      "id": "g4lWx9jlrRjS"
    },
    {
      "cell_type": "markdown",
      "metadata": {
        "id": "ThL7hGworRjT"
      },
      "source": [
        "L) Use `tf.tile` to repeat `k` 50 times, with an eventual shape of `(50,5)`. Assign to `l`."
      ],
      "id": "ThL7hGworRjT"
    },
    {
      "cell_type": "code",
      "execution_count": null,
      "metadata": {
        "colab": {
          "base_uri": "https://localhost:8080/"
        },
        "id": "ZGSlSy-orRjT",
        "outputId": "ddaefe57-00a3-4bde-a410-010f511f038e"
      },
      "outputs": [
        {
          "output_type": "execute_result",
          "data": {
            "text/plain": [
              "<tf.Tensor: shape=(50, 5), dtype=int64, numpy=\n",
              "array([[1, 2, 3, 4, 8],\n",
              "       [1, 2, 3, 4, 8],\n",
              "       [1, 2, 3, 4, 8],\n",
              "       [1, 2, 3, 4, 8],\n",
              "       [1, 2, 3, 4, 8],\n",
              "       [1, 2, 3, 4, 8],\n",
              "       [1, 2, 3, 4, 8],\n",
              "       [1, 2, 3, 4, 8],\n",
              "       [1, 2, 3, 4, 8],\n",
              "       [1, 2, 3, 4, 8],\n",
              "       [1, 2, 3, 4, 8],\n",
              "       [1, 2, 3, 4, 8],\n",
              "       [1, 2, 3, 4, 8],\n",
              "       [1, 2, 3, 4, 8],\n",
              "       [1, 2, 3, 4, 8],\n",
              "       [1, 2, 3, 4, 8],\n",
              "       [1, 2, 3, 4, 8],\n",
              "       [1, 2, 3, 4, 8],\n",
              "       [1, 2, 3, 4, 8],\n",
              "       [1, 2, 3, 4, 8],\n",
              "       [1, 2, 3, 4, 8],\n",
              "       [1, 2, 3, 4, 8],\n",
              "       [1, 2, 3, 4, 8],\n",
              "       [1, 2, 3, 4, 8],\n",
              "       [1, 2, 3, 4, 8],\n",
              "       [1, 2, 3, 4, 8],\n",
              "       [1, 2, 3, 4, 8],\n",
              "       [1, 2, 3, 4, 8],\n",
              "       [1, 2, 3, 4, 8],\n",
              "       [1, 2, 3, 4, 8],\n",
              "       [1, 2, 3, 4, 8],\n",
              "       [1, 2, 3, 4, 8],\n",
              "       [1, 2, 3, 4, 8],\n",
              "       [1, 2, 3, 4, 8],\n",
              "       [1, 2, 3, 4, 8],\n",
              "       [1, 2, 3, 4, 8],\n",
              "       [1, 2, 3, 4, 8],\n",
              "       [1, 2, 3, 4, 8],\n",
              "       [1, 2, 3, 4, 8],\n",
              "       [1, 2, 3, 4, 8],\n",
              "       [1, 2, 3, 4, 8],\n",
              "       [1, 2, 3, 4, 8],\n",
              "       [1, 2, 3, 4, 8],\n",
              "       [1, 2, 3, 4, 8],\n",
              "       [1, 2, 3, 4, 8],\n",
              "       [1, 2, 3, 4, 8],\n",
              "       [1, 2, 3, 4, 8],\n",
              "       [1, 2, 3, 4, 8],\n",
              "       [1, 2, 3, 4, 8],\n",
              "       [1, 2, 3, 4, 8]])>"
            ]
          },
          "metadata": {},
          "execution_count": 68
        }
      ],
      "source": [
        "l=tf.tile(k,multiples=[50,1])\n",
        "l"
      ],
      "id": "ZGSlSy-orRjT"
    },
    {
      "cell_type": "markdown",
      "metadata": {
        "id": "LHvB-usBrRjT"
      },
      "source": [
        "M) Use a simple Boolean statement to create a tensor containing `True` values for where `l` is 3  and `False` for where it is not 3. Assign to `m`"
      ],
      "id": "LHvB-usBrRjT"
    },
    {
      "cell_type": "code",
      "execution_count": null,
      "metadata": {
        "colab": {
          "base_uri": "https://localhost:8080/"
        },
        "id": "CXIfqj7wrRjT",
        "outputId": "06a93728-9493-4d72-cc66-ee5337862b67"
      },
      "outputs": [
        {
          "output_type": "stream",
          "name": "stdout",
          "text": [
            "tf.Tensor(\n",
            "[[False False  True False False]\n",
            " [False False  True False False]\n",
            " [False False  True False False]\n",
            " [False False  True False False]\n",
            " [False False  True False False]\n",
            " [False False  True False False]\n",
            " [False False  True False False]\n",
            " [False False  True False False]\n",
            " [False False  True False False]\n",
            " [False False  True False False]\n",
            " [False False  True False False]\n",
            " [False False  True False False]\n",
            " [False False  True False False]\n",
            " [False False  True False False]\n",
            " [False False  True False False]\n",
            " [False False  True False False]\n",
            " [False False  True False False]\n",
            " [False False  True False False]\n",
            " [False False  True False False]\n",
            " [False False  True False False]\n",
            " [False False  True False False]\n",
            " [False False  True False False]\n",
            " [False False  True False False]\n",
            " [False False  True False False]\n",
            " [False False  True False False]\n",
            " [False False  True False False]\n",
            " [False False  True False False]\n",
            " [False False  True False False]\n",
            " [False False  True False False]\n",
            " [False False  True False False]\n",
            " [False False  True False False]\n",
            " [False False  True False False]\n",
            " [False False  True False False]\n",
            " [False False  True False False]\n",
            " [False False  True False False]\n",
            " [False False  True False False]\n",
            " [False False  True False False]\n",
            " [False False  True False False]\n",
            " [False False  True False False]\n",
            " [False False  True False False]\n",
            " [False False  True False False]\n",
            " [False False  True False False]\n",
            " [False False  True False False]\n",
            " [False False  True False False]\n",
            " [False False  True False False]\n",
            " [False False  True False False]\n",
            " [False False  True False False]\n",
            " [False False  True False False]\n",
            " [False False  True False False]\n",
            " [False False  True False False]], shape=(50, 5), dtype=bool)\n"
          ]
        }
      ],
      "source": [
        "m = (l == 3)\n",
        "print (m)"
      ],
      "id": "CXIfqj7wrRjT"
    },
    {
      "cell_type": "markdown",
      "metadata": {
        "id": "BYujUIXrrRjT"
      },
      "source": [
        "N) Divide every value in you variable `l` (read as \"L\") by 3. Assign to `n`."
      ],
      "id": "BYujUIXrrRjT"
    },
    {
      "cell_type": "code",
      "execution_count": null,
      "metadata": {
        "colab": {
          "base_uri": "https://localhost:8080/"
        },
        "id": "vfouIp86rRjU",
        "outputId": "69fbcb95-4495-4d38-abfd-7ce15fd66714"
      },
      "outputs": [
        {
          "output_type": "execute_result",
          "data": {
            "text/plain": [
              "<tf.Tensor: shape=(50, 5), dtype=float64, numpy=\n",
              "array([[0.33333333, 0.66666667, 1.        , 1.33333333, 2.66666667],\n",
              "       [0.33333333, 0.66666667, 1.        , 1.33333333, 2.66666667],\n",
              "       [0.33333333, 0.66666667, 1.        , 1.33333333, 2.66666667],\n",
              "       [0.33333333, 0.66666667, 1.        , 1.33333333, 2.66666667],\n",
              "       [0.33333333, 0.66666667, 1.        , 1.33333333, 2.66666667],\n",
              "       [0.33333333, 0.66666667, 1.        , 1.33333333, 2.66666667],\n",
              "       [0.33333333, 0.66666667, 1.        , 1.33333333, 2.66666667],\n",
              "       [0.33333333, 0.66666667, 1.        , 1.33333333, 2.66666667],\n",
              "       [0.33333333, 0.66666667, 1.        , 1.33333333, 2.66666667],\n",
              "       [0.33333333, 0.66666667, 1.        , 1.33333333, 2.66666667],\n",
              "       [0.33333333, 0.66666667, 1.        , 1.33333333, 2.66666667],\n",
              "       [0.33333333, 0.66666667, 1.        , 1.33333333, 2.66666667],\n",
              "       [0.33333333, 0.66666667, 1.        , 1.33333333, 2.66666667],\n",
              "       [0.33333333, 0.66666667, 1.        , 1.33333333, 2.66666667],\n",
              "       [0.33333333, 0.66666667, 1.        , 1.33333333, 2.66666667],\n",
              "       [0.33333333, 0.66666667, 1.        , 1.33333333, 2.66666667],\n",
              "       [0.33333333, 0.66666667, 1.        , 1.33333333, 2.66666667],\n",
              "       [0.33333333, 0.66666667, 1.        , 1.33333333, 2.66666667],\n",
              "       [0.33333333, 0.66666667, 1.        , 1.33333333, 2.66666667],\n",
              "       [0.33333333, 0.66666667, 1.        , 1.33333333, 2.66666667],\n",
              "       [0.33333333, 0.66666667, 1.        , 1.33333333, 2.66666667],\n",
              "       [0.33333333, 0.66666667, 1.        , 1.33333333, 2.66666667],\n",
              "       [0.33333333, 0.66666667, 1.        , 1.33333333, 2.66666667],\n",
              "       [0.33333333, 0.66666667, 1.        , 1.33333333, 2.66666667],\n",
              "       [0.33333333, 0.66666667, 1.        , 1.33333333, 2.66666667],\n",
              "       [0.33333333, 0.66666667, 1.        , 1.33333333, 2.66666667],\n",
              "       [0.33333333, 0.66666667, 1.        , 1.33333333, 2.66666667],\n",
              "       [0.33333333, 0.66666667, 1.        , 1.33333333, 2.66666667],\n",
              "       [0.33333333, 0.66666667, 1.        , 1.33333333, 2.66666667],\n",
              "       [0.33333333, 0.66666667, 1.        , 1.33333333, 2.66666667],\n",
              "       [0.33333333, 0.66666667, 1.        , 1.33333333, 2.66666667],\n",
              "       [0.33333333, 0.66666667, 1.        , 1.33333333, 2.66666667],\n",
              "       [0.33333333, 0.66666667, 1.        , 1.33333333, 2.66666667],\n",
              "       [0.33333333, 0.66666667, 1.        , 1.33333333, 2.66666667],\n",
              "       [0.33333333, 0.66666667, 1.        , 1.33333333, 2.66666667],\n",
              "       [0.33333333, 0.66666667, 1.        , 1.33333333, 2.66666667],\n",
              "       [0.33333333, 0.66666667, 1.        , 1.33333333, 2.66666667],\n",
              "       [0.33333333, 0.66666667, 1.        , 1.33333333, 2.66666667],\n",
              "       [0.33333333, 0.66666667, 1.        , 1.33333333, 2.66666667],\n",
              "       [0.33333333, 0.66666667, 1.        , 1.33333333, 2.66666667],\n",
              "       [0.33333333, 0.66666667, 1.        , 1.33333333, 2.66666667],\n",
              "       [0.33333333, 0.66666667, 1.        , 1.33333333, 2.66666667],\n",
              "       [0.33333333, 0.66666667, 1.        , 1.33333333, 2.66666667],\n",
              "       [0.33333333, 0.66666667, 1.        , 1.33333333, 2.66666667],\n",
              "       [0.33333333, 0.66666667, 1.        , 1.33333333, 2.66666667],\n",
              "       [0.33333333, 0.66666667, 1.        , 1.33333333, 2.66666667],\n",
              "       [0.33333333, 0.66666667, 1.        , 1.33333333, 2.66666667],\n",
              "       [0.33333333, 0.66666667, 1.        , 1.33333333, 2.66666667],\n",
              "       [0.33333333, 0.66666667, 1.        , 1.33333333, 2.66666667],\n",
              "       [0.33333333, 0.66666667, 1.        , 1.33333333, 2.66666667]])>"
            ]
          },
          "metadata": {},
          "execution_count": 71
        }
      ],
      "source": [
        "n=tf.divide(l,3)\n",
        "n"
      ],
      "id": "vfouIp86rRjU"
    },
    {
      "cell_type": "markdown",
      "metadata": {
        "id": "yMM8iUvNrRjU"
      },
      "source": [
        "O) Use `tf.concat()` to take the list of two tensors below of shape (5,5) and (5,5) each and turn them into a final tensor of shape (10,5). Assign to `o`. Think carefully about the concation axis."
      ],
      "id": "yMM8iUvNrRjU"
    },
    {
      "cell_type": "code",
      "execution_count": null,
      "metadata": {
        "id": "K2dDCp5mrRjU"
      },
      "outputs": [],
      "source": [
        "tensor_list = [tf.ones((5,5)), tf.ones((5,5))]"
      ],
      "id": "K2dDCp5mrRjU"
    },
    {
      "cell_type": "code",
      "execution_count": null,
      "metadata": {
        "colab": {
          "base_uri": "https://localhost:8080/"
        },
        "id": "LG9QrZzPrRjU",
        "outputId": "fd4c8faa-3dde-4f1a-8f80-7cc00a79b584"
      },
      "outputs": [
        {
          "output_type": "execute_result",
          "data": {
            "text/plain": [
              "<tf.Tensor: shape=(10, 5), dtype=float32, numpy=\n",
              "array([[1., 1., 1., 1., 1.],\n",
              "       [1., 1., 1., 1., 1.],\n",
              "       [1., 1., 1., 1., 1.],\n",
              "       [1., 1., 1., 1., 1.],\n",
              "       [1., 1., 1., 1., 1.],\n",
              "       [1., 1., 1., 1., 1.],\n",
              "       [1., 1., 1., 1., 1.],\n",
              "       [1., 1., 1., 1., 1.],\n",
              "       [1., 1., 1., 1., 1.],\n",
              "       [1., 1., 1., 1., 1.]], dtype=float32)>"
            ]
          },
          "metadata": {},
          "execution_count": 73
        }
      ],
      "source": [
        "o=tf.concat(tensor_list,axis=0)\n",
        "o"
      ],
      "id": "LG9QrZzPrRjU"
    },
    {
      "cell_type": "markdown",
      "metadata": {
        "id": "ha_Q_X-yrRjV"
      },
      "source": [
        "### Check your answers"
      ],
      "id": "ha_Q_X-yrRjV"
    },
    {
      "cell_type": "code",
      "execution_count": null,
      "metadata": {
        "colab": {
          "base_uri": "https://localhost:8080/",
          "height": 385
        },
        "id": "ks8XO1xTrRjV",
        "outputId": "87a28bc0-90e9-4492-e106-606862a62bf7"
      },
      "outputs": [
        {
          "output_type": "error",
          "ename": "ModuleNotFoundError",
          "evalue": "No module named 'nbresult'",
          "traceback": [
            "\u001b[0;31m---------------------------------------------------------------------------\u001b[0m",
            "\u001b[0;31mModuleNotFoundError\u001b[0m                       Traceback (most recent call last)",
            "\u001b[0;32m<ipython-input-74-63e69f701d4e>\u001b[0m in \u001b[0;36m<cell line: 1>\u001b[0;34m()\u001b[0m\n\u001b[0;32m----> 1\u001b[0;31m \u001b[0;32mfrom\u001b[0m \u001b[0mnbresult\u001b[0m \u001b[0;32mimport\u001b[0m \u001b[0mChallengeResult\u001b[0m\u001b[0;34m\u001b[0m\u001b[0;34m\u001b[0m\u001b[0m\n\u001b[0m\u001b[1;32m      2\u001b[0m \u001b[0;34m\u001b[0m\u001b[0m\n\u001b[1;32m      3\u001b[0m result = ChallengeResult('tensors',\n\u001b[1;32m      4\u001b[0m                             \u001b[0ma\u001b[0m \u001b[0;34m=\u001b[0m \u001b[0ma\u001b[0m\u001b[0;34m,\u001b[0m\u001b[0;34m\u001b[0m\u001b[0;34m\u001b[0m\u001b[0m\n\u001b[1;32m      5\u001b[0m                             \u001b[0mb\u001b[0m \u001b[0;34m=\u001b[0m \u001b[0mb\u001b[0m\u001b[0;34m,\u001b[0m\u001b[0;34m\u001b[0m\u001b[0;34m\u001b[0m\u001b[0m\n",
            "\u001b[0;31mModuleNotFoundError\u001b[0m: No module named 'nbresult'",
            "",
            "\u001b[0;31m---------------------------------------------------------------------------\u001b[0;32m\nNOTE: If your import is failing due to a missing package, you can\nmanually install dependencies using either !pip or !apt.\n\nTo view examples of installing some common dependencies, click the\n\"Open Examples\" button below.\n\u001b[0;31m---------------------------------------------------------------------------\u001b[0m\n"
          ],
          "errorDetails": {
            "actions": [
              {
                "action": "open_url",
                "actionText": "Open Examples",
                "url": "/notebooks/snippets/importing_libraries.ipynb"
              }
            ]
          }
        }
      ],
      "source": [
        "from nbresult import ChallengeResult\n",
        "\n",
        "result = ChallengeResult('tensors',\n",
        "                            a = a,\n",
        "                            b = b,\n",
        "                            c = c,\n",
        "                            d_shape = d.shape,\n",
        "                            e = e,\n",
        "                            f = f,\n",
        "                            g = g,\n",
        "                            h = h,\n",
        "                            i = i,\n",
        "                            j = j,\n",
        "                            k = k,\n",
        "                            l = l,\n",
        "                            m = m,\n",
        "                            n = n,\n",
        "                            o_shape = o.shape\n",
        ")\n",
        "\n",
        "result.write()\n",
        "print(result.check())"
      ],
      "id": "ks8XO1xTrRjV"
    },
    {
      "cell_type": "markdown",
      "metadata": {
        "id": "EcMU0MlmrRjW"
      },
      "source": [
        "### Great work 🔥\n",
        "\n",
        "Now it's time to get stuck into some modelling!"
      ],
      "id": "EcMU0MlmrRjW"
    }
  ],
  "metadata": {
    "kernelspec": {
      "display_name": "Python 3",
      "name": "python3"
    },
    "colab": {
      "provenance": [],
      "gpuType": "T4"
    },
    "accelerator": "GPU"
  },
  "nbformat": 4,
  "nbformat_minor": 5
}